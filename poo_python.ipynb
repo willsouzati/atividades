{
  "nbformat": 4,
  "nbformat_minor": 0,
  "metadata": {
    "colab": {
      "provenance": [],
      "authorship_tag": "ABX9TyO4YEcBNJn3ojmun6unhaz4",
      "include_colab_link": true
    },
    "kernelspec": {
      "name": "python3",
      "display_name": "Python 3"
    },
    "language_info": {
      "name": "python"
    }
  },
  "cells": [
    {
      "cell_type": "markdown",
      "metadata": {
        "id": "view-in-github",
        "colab_type": "text"
      },
      "source": [
        "<a href=\"https://colab.research.google.com/github/willsouzati/atividades/blob/main/poo_python.ipynb\" target=\"_parent\"><img src=\"https://colab.research.google.com/assets/colab-badge.svg\" alt=\"Open In Colab\"/></a>"
      ]
    },
    {
      "cell_type": "code",
      "execution_count": null,
      "metadata": {
        "id": "urUM0GEBgHG6"
      },
      "outputs": [],
      "source": [
        "class Estudante :\n",
        "  def __init__ (self, nome, idade, endereco, sexo):\n",
        "     self.nome = nome\n",
        "     self.idade = idade\n",
        "     self.endereco = endereco\n",
        "     self.sexo = sexo\n",
        "\n",
        "  def apresentar(self):\n",
        "      return f\"Olá meu nome é {self.nome} , tenho {self.idade} anos , e moro na {self.endereco} e sou do sexo {self.sexo}\"\n",
        "\n",
        "nome = input('Digite seu nome :')\n",
        "idade = input('Digite sua idade :')\n",
        "endereco = input('Digite seu endereço :')\n",
        "sexo = input('Digite seu sexo :')\n",
        "\n",
        "pessoa1 = Estudante (nome, idade, endereco, sexo)\n",
        "\n",
        "print(pessoa1.apresentar())\n"
      ]
    },
    {
      "cell_type": "code",
      "source": [
        "class Pet :\n",
        "  def __init__ (self, raca, idade, especie, sexo):\n",
        "     self.raca = raca\n",
        "     self.idade = idade\n",
        "     self.especie = especie\n",
        "     self.sexo = sexo\n",
        "\n",
        "  def apresentar(self):\n",
        "      return (f\"Raça : {self.raca}\\n\"\n",
        "              f\"Idade : {self.idade}\\n\"\n",
        "              f\"Espécie : {self.especie}\\n\"\n",
        "              f\"Sexo : {self.sexo}\\n\")\n",
        "\n",
        "\n",
        "raca = input('Digite a raça do PET :')\n",
        "idade = input('Digite a idade do PET :')\n",
        "especie = input('Digite a espécie do PET :')\n",
        "sexo = input('Digite o sexo do PET :')\n",
        "\n",
        "pet = Pet (raca, idade, especie, sexo)\n",
        "print(pet.apresentar())"
      ],
      "metadata": {
        "id": "yt4eagHemoBV"
      },
      "execution_count": null,
      "outputs": []
    },
    {
      "cell_type": "code",
      "source": [
        "class Cadastro:\n",
        "  def __init__(login, senha)\n",
        "     self.login = login\n",
        "     self.senha = senha\n"
      ],
      "metadata": {
        "id": "poRaDauBsLCr"
      },
      "execution_count": null,
      "outputs": []
    }
  ]
}