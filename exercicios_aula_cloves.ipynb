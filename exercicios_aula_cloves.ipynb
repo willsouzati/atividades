{
  "nbformat": 4,
  "nbformat_minor": 0,
  "metadata": {
    "colab": {
      "provenance": [],
      "authorship_tag": "ABX9TyP666hrN64P02rQSBlEESfD",
      "include_colab_link": true
    },
    "kernelspec": {
      "name": "python3",
      "display_name": "Python 3"
    },
    "language_info": {
      "name": "python"
    }
  },
  "cells": [
    {
      "cell_type": "markdown",
      "metadata": {
        "id": "view-in-github",
        "colab_type": "text"
      },
      "source": [
        "<a href=\"https://colab.research.google.com/github/willsouzati/atividades/blob/main/exercicios_aula_cloves.ipynb\" target=\"_parent\"><img src=\"https://colab.research.google.com/assets/colab-badge.svg\" alt=\"Open In Colab\"/></a>"
      ]
    },
    {
      "cell_type": "code",
      "execution_count": 1,
      "metadata": {
        "colab": {
          "base_uri": "https://localhost:8080/"
        },
        "id": "MuC7nbCgecVK",
        "outputId": "c9dd8688-aa42-4b7e-d399-ab091cc08349"
      },
      "outputs": [
        {
          "output_type": "stream",
          "name": "stdout",
          "text": [
            "Olá Mundo !\n"
          ]
        }
      ],
      "source": [
        "# QUESTÃO - 1\n",
        "# Faça um Programa que mostre a mensagem \"Olá mundo\" na tela.\n",
        "\n",
        "print ('Olá Mundo !')"
      ]
    },
    {
      "cell_type": "code",
      "source": [
        "# QUESTÃO - 2\n",
        "# Faça um Programa que peça um número e então mostre a mensagem  'O número informado foi [número]'.\n",
        "num = int(input('Digite um número inteiro :'))\n",
        "print (f'O número informado foi [{num}] !')"
      ],
      "metadata": {
        "colab": {
          "base_uri": "https://localhost:8080/"
        },
        "id": "giPZsFGXe6Pp",
        "outputId": "5acdeb40-af5c-424f-f1c5-c7af8f711379"
      },
      "execution_count": 2,
      "outputs": [
        {
          "output_type": "stream",
          "name": "stdout",
          "text": [
            "Digite um número inteiro :10\n",
            "O número informado foi [10] !\n"
          ]
        }
      ]
    },
    {
      "cell_type": "code",
      "source": [
        "# QUESTÃO - 3\n",
        "# Faça um Programa que peça dois números e imprima a soma.\n",
        "num1 = int(input('Digite o primeiro número :'))\n",
        "num2 = int(input('Digite o segundo número :'))\n",
        "\n",
        "soma = num1 + num2\n",
        "print (f'A soma do primeiro número com o segundo é {soma}')"
      ],
      "metadata": {
        "colab": {
          "base_uri": "https://localhost:8080/"
        },
        "id": "XskzBuiYfh5-",
        "outputId": "240df5c5-4b66-4cca-f145-281bf3306428"
      },
      "execution_count": 3,
      "outputs": [
        {
          "output_type": "stream",
          "name": "stdout",
          "text": [
            "Digite o primeiro número :10\n",
            "Digite o segundo número :20\n",
            "A soma do primeiro número com o segundo é 30\n"
          ]
        }
      ]
    },
    {
      "cell_type": "code",
      "source": [
        "1# QUESTÃO - 4\n",
        "# Faça um Programa que peça as 4 notas bimestrais e mostre a média.\n",
        "print('Digite abaixo as suas 4 notas !')\n",
        "n1 = float(input('Nota 1 :'))\n",
        "n2 = float(input('Nota 2 :'))\n",
        "n3 = float(input('Nota 3 :'))\n",
        "n4 = float(input('Nota 4 :'))\n",
        "\n",
        "media = (n1+n2+n3+n4)/4\n",
        "\n",
        "print (f'A sua média final é : {media}')\n",
        "\n"
      ],
      "metadata": {
        "colab": {
          "base_uri": "https://localhost:8080/"
        },
        "id": "-2Qu6_6qgAH2",
        "outputId": "bf173d13-773f-4636-fb76-774a138d8738"
      },
      "execution_count": 4,
      "outputs": [
        {
          "output_type": "stream",
          "name": "stdout",
          "text": [
            "Digite abaixo as suas 4 notas !\n",
            "Nota 1 :7\n",
            "Nota 2 :8.5\n",
            "Nota 3 :10\n",
            "Nota 4 :6.5\n",
            "A sua média final é : 8.0\n"
          ]
        }
      ]
    },
    {
      "cell_type": "code",
      "source": [
        "# QUESTÃO - 5\n",
        "# Faça um Programa que converta metros para centímetros.\n",
        "metros = float(input('Digite um valor em metros :'))\n",
        "\n",
        "convert = metros * 100\n",
        "\n",
        "print (f'A medida  de {metros} M em centímetros torna-se {convert} CM')\n"
      ],
      "metadata": {
        "colab": {
          "base_uri": "https://localhost:8080/"
        },
        "id": "UsG-taX-guAz",
        "outputId": "aec2a3f3-845d-4742-fc0f-8a01f8291845"
      },
      "execution_count": 8,
      "outputs": [
        {
          "output_type": "stream",
          "name": "stdout",
          "text": [
            "Digite um valor em metros :1.79\n",
            "A medida  de 1.79 M em centímetros torna-se 179.0 CM\n"
          ]
        }
      ]
    },
    {
      "cell_type": "code",
      "source": [
        "\n",
        "# QUESTÃO - 6\n",
        "# Faça um Programa que peça o raio de um círculo, calcule e mostre sua área. considerando PI 3.14 A = π r²\n",
        "raio = float(input('Digite o raio do circulo'))\n",
        "\n",
        "area = (raio * raio) * 3.14\n",
        "\n",
        "print (f'A area do circulo é : {area}')\n"
      ],
      "metadata": {
        "colab": {
          "base_uri": "https://localhost:8080/"
        },
        "id": "w5xo3PP6h2pX",
        "outputId": "a997d0b8-c7c0-4629-86a8-3e97391bf611"
      },
      "execution_count": 9,
      "outputs": [
        {
          "output_type": "stream",
          "name": "stdout",
          "text": [
            "Digite o raio do circulo15\n",
            "A area do circulo é : 706.5\n"
          ]
        }
      ]
    },
    {
      "cell_type": "code",
      "source": [
        "# QUESTÃO - 7\n",
        "# Faça um Programa que calcule a área de um quadrado, em seguida mostre o dobro desta área para o usuário.\n",
        "base = float(input('Digite o valor da base :'))\n",
        "altura = float(input('Digite o valor da altura :'))\n",
        "\n",
        "area = base * altura\n",
        "d_area = area * 2\n",
        "print(f'O valor da Área do quadrado é : {area}')\n",
        "print (f'E o dobro da área é : {d_area}')\n",
        "\n"
      ],
      "metadata": {
        "colab": {
          "base_uri": "https://localhost:8080/"
        },
        "id": "rTGulb0LjBLy",
        "outputId": "394ee9a2-ec4a-4413-909d-e286b9567d48"
      },
      "execution_count": 10,
      "outputs": [
        {
          "output_type": "stream",
          "name": "stdout",
          "text": [
            "Digite o valor da base :14\n",
            "Digite o valor da altura :14\n",
            "O valor da Área do quadrado é : 196.0\n",
            "E o dobro da área é : 392.0\n"
          ]
        }
      ]
    },
    {
      "cell_type": "code",
      "source": [
        "# QUESTÃO - 8\n",
        "# Faça um Programa que pergunte quanto você ganha por hora e o número de horas trabalhadas no mês.\n",
        "# Calcule e mostre o total do seu salário no referido mês.\n",
        "\n",
        "vhora = float(input('Digite quanto você ganha por hora :'))\n",
        "horasm = float(input('Digite quantas horas você trabalha por mês :'))\n",
        "\n",
        "stotal = vhora * horasm\n",
        "\n",
        "print(f'O seu salário aproximado é de : {stotal}')\n"
      ],
      "metadata": {
        "colab": {
          "base_uri": "https://localhost:8080/"
        },
        "id": "USvq2H1ol35I",
        "outputId": "860d506a-a174-401e-9ed0-8516caa41973"
      },
      "execution_count": 11,
      "outputs": [
        {
          "output_type": "stream",
          "name": "stdout",
          "text": [
            "Digite quanto você ganha por hora :8\n",
            "Digite quantas horas você trabalha por mês :240\n",
            "O seu salário aproximado é de : 1920.0\n"
          ]
        }
      ]
    },
    {
      "cell_type": "code",
      "source": [
        "# QUESTÃO - 9\n",
        "# Faça um Programa que peça um valor e mostre na tela se o valor é positivo ou negativo.\n",
        "valor = float(input('Digite um Valor'))\n",
        "if valor >0:\n",
        "  print('Este valor é positivo')\n",
        "else:\n",
        "  print ('Este valor é negativo')"
      ],
      "metadata": {
        "colab": {
          "base_uri": "https://localhost:8080/"
        },
        "id": "ykgJhea3nWt8",
        "outputId": "00664b9f-2c62-4d7d-e7ad-97ee14d4ddda"
      },
      "execution_count": 12,
      "outputs": [
        {
          "output_type": "stream",
          "name": "stdout",
          "text": [
            "Digite um Valor-25\n",
            "Este valor é negativo\n"
          ]
        }
      ]
    },
    {
      "cell_type": "code",
      "source": [
        "# QUESTÃO - 10\n",
        "# Faça um Programa que verifique se uma letra digitada é \"F\" ou \"M\". 11. Conforme a letra escrever: F - Feminino, M - Masculino, Sexo Inválido.\n",
        "print ('F - FEMININO')\n",
        "print ('M - MASCULINO')\n",
        "\n",
        "menu = str(input('DIGITE SEU SEXO :'))\n",
        "\n",
        "if menu.upper() == 'F':\n",
        "  print ('Seu sexo é Feminino ')\n",
        "elif menu.upper() == 'M':\n",
        "  print ('Seu sexo é Masculino ')\n",
        "else:\n",
        "  print ('Sexo inválido')\n"
      ],
      "metadata": {
        "colab": {
          "base_uri": "https://localhost:8080/"
        },
        "id": "hwWweNONno-U",
        "outputId": "82d60014-16ae-4e78-b922-2a39e4d5942f"
      },
      "execution_count": 13,
      "outputs": [
        {
          "output_type": "stream",
          "name": "stdout",
          "text": [
            "F - FEMININO\n",
            "M - MASCULINO\n",
            "DIGITE SEU SEXO :m\n",
            "Seu sexo é Masculino \n"
          ]
        }
      ]
    },
    {
      "cell_type": "code",
      "source": [
        "# QUESTÃO - 11\n",
        "# Faça um Programa que verifique se uma letra digitada é vogal ou consoante.\n",
        "vogal = str(input('Digite uma letra'))\n",
        "if vogal.upper() == 'A':\n",
        "  print ('Esta letra é uma vogal !')\n",
        "elif vogal.upper() == 'E':\n",
        "  print ('Esta letra é uma vogal !')\n",
        "elif vogal.upper() == 'I':\n",
        "  print ('Esta letra é uma vogal !')\n",
        "elif vogal.upper() == 'O':\n",
        "  print ('Esta letra é uma vogal !')\n",
        "elif vogal.upper() == 'U':\n",
        "  print ('Esta letra é uma vogal !')\n",
        "else :\n",
        "  print('Esta letra é uma consoante !')"
      ],
      "metadata": {
        "colab": {
          "base_uri": "https://localhost:8080/"
        },
        "id": "SwwlfSCZqhX5",
        "outputId": "43a0ee0c-d638-4e17-e645-538ba8e0f01e"
      },
      "execution_count": 15,
      "outputs": [
        {
          "output_type": "stream",
          "name": "stdout",
          "text": [
            "Digite uma letrau\n",
            "Esta letra é uma vogal !\n"
          ]
        }
      ]
    }
  ]
}