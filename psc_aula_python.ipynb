{
  "nbformat": 4,
  "nbformat_minor": 0,
  "metadata": {
    "colab": {
      "provenance": [],
      "authorship_tag": "ABX9TyMsYAyN1lGYGImZ0FQDZ1nn",
      "include_colab_link": true
    },
    "kernelspec": {
      "name": "python3",
      "display_name": "Python 3"
    },
    "language_info": {
      "name": "python"
    }
  },
  "cells": [
    {
      "cell_type": "markdown",
      "metadata": {
        "id": "view-in-github",
        "colab_type": "text"
      },
      "source": [
        "<a href=\"https://colab.research.google.com/github/willsouzati/atividades/blob/main/psc_aula_python.ipynb\" target=\"_parent\"><img src=\"https://colab.research.google.com/assets/colab-badge.svg\" alt=\"Open In Colab\"/></a>"
      ]
    },
    {
      "cell_type": "code",
      "execution_count": null,
      "metadata": {
        "colab": {
          "base_uri": "https://localhost:8080/"
        },
        "id": "ywiWGIQzPabT",
        "outputId": "e8541987-bbba-4016-c4b8-0deda0d5f969"
      },
      "outputs": [
        {
          "output_type": "stream",
          "name": "stdout",
          "text": [
            "<class 'int'>\n"
          ]
        }
      ],
      "source": [
        "#PROGRAMAÇÃO DE SOLUÇÕES COMPUTACIONAIS.\n",
        "#PSC - DOCENTE : CLOVES ROCHA\n",
        "\n",
        "# é atribuido o valor 10 à variável 'x'.\n",
        "x = 10\n",
        "\n",
        "# 'type' vai dizer o tipo da variável dentro do parênteses (variável).\n",
        "print(type(x))"
      ]
    },
    {
      "cell_type": "code",
      "source": [
        "#PROGRAMAÇÃO DE SOLUÇÕES COMPUTACIONAIS.\n",
        "#PSC - DOCENTE : CLOVES ROCHA\n",
        "\n",
        "#Definindo Valores as variáveis\n",
        "a = 5\n",
        "b = 4\n",
        "#Comparando valor de a com b, retorno será True ou False\n",
        "print (a == b)"
      ],
      "metadata": {
        "colab": {
          "base_uri": "https://localhost:8080/"
        },
        "id": "BdFjZ-QTSh8L",
        "outputId": "948337a6-6394-4094-e7b5-92a5dd743476"
      },
      "execution_count": null,
      "outputs": [
        {
          "output_type": "stream",
          "name": "stdout",
          "text": [
            "True\n"
          ]
        }
      ]
    },
    {
      "cell_type": "code",
      "source": [
        "#PROGRAMAÇÃO DE SOLUÇÕES COMPUTACIONAIS.\n",
        "#PSC - DOCENTE : CLOVES ROCHA\n",
        "\n",
        "numero = 2\n",
        "# o 'f' antes do parenteses serve para imprimir o valor da variavel dentro de chaves '{}'\n",
        "# A frase então a ser impressa será ' O número 2 é par '.\n",
        "print (f'O número {numero} é par')"
      ],
      "metadata": {
        "colab": {
          "base_uri": "https://localhost:8080/"
        },
        "id": "Bx6u7JBwTnZ7",
        "outputId": "2bc1b05c-4632-4aae-ed91-b693d5b603d4"
      },
      "execution_count": null,
      "outputs": [
        {
          "output_type": "stream",
          "name": "stdout",
          "text": [
            "O número 2 é par\n"
          ]
        }
      ]
    },
    {
      "cell_type": "code",
      "source": [
        "#PROGRAMAÇÃO DE SOLUÇÕES COMPUTACIONAIS.\n",
        "#PSC - DOCENTE : CLOVES ROCHA\n",
        "\n",
        "#Aqui você atribui valor a variável seguido do texto.\n",
        "nome = input('Digite seu nome :')\n",
        "idade = input('Digite sua idade :')\n",
        "email = input('Digite seu email :')\n",
        "print (f'Seu nome é {nome}')\n",
        "print (f'Você tem {idade} anos')\n",
        "print (f'Seu email é {email}')\n",
        "\n"
      ],
      "metadata": {
        "id": "8mT_OInoUT3j"
      },
      "execution_count": null,
      "outputs": []
    },
    {
      "cell_type": "code",
      "source": [
        "#Aqui você define o tipo de variável antes (float, inteiro, string, boolean)\n",
        "peso = float(input('Digite seu peso :'))\n",
        "print (f'Você pesa {peso} quilos')\n",
        "print (type(peso))"
      ],
      "metadata": {
        "id": "4tvNFpNgVfEu"
      },
      "execution_count": null,
      "outputs": []
    },
    {
      "cell_type": "code",
      "source": [
        "#Verificando se um número é par ou impar utilizando if e else.\n",
        "num = int(input('Digite um número inteiro'))\n",
        "if num % 2==0:\n",
        "  print ('O numero é par')\n",
        "else :\n",
        "  print ('O numero é impar')"
      ],
      "metadata": {
        "colab": {
          "base_uri": "https://localhost:8080/"
        },
        "id": "crIj8n-UWNMI",
        "outputId": "8cf17a2b-43a6-4504-fabc-e4666523e4c8"
      },
      "execution_count": null,
      "outputs": [
        {
          "output_type": "stream",
          "name": "stdout",
          "text": [
            "Digite um número inteiro11\n",
            "O numero é impar\n"
          ]
        }
      ]
    },
    {
      "cell_type": "code",
      "source": [
        "#Verificando se um número é positivo, neutro ou negativo utilizando if, elif e else. elif é semelhante a else if em linguagem C.\n",
        "num = float(input('Digite um número :'))\n",
        "if num > 0:\n",
        "  print ('Este número é Positivo')\n",
        "elif num == 0:\n",
        "  print ('Este número é neutro')\n",
        "else :\n",
        "  print ('Este número é negativo')"
      ],
      "metadata": {
        "colab": {
          "base_uri": "https://localhost:8080/"
        },
        "id": "51cAGO9rWv5d",
        "outputId": "c1469b7d-9fee-491e-8cea-0a869b7347aa"
      },
      "execution_count": null,
      "outputs": [
        {
          "output_type": "stream",
          "name": "stdout",
          "text": [
            "Digite um número10\n",
            "Este número é Positivo\n"
          ]
        }
      ]
    },
    {
      "cell_type": "code",
      "source": [
        "#Menu simples utilizando else, elif e else.\n",
        "print ('1 - IDOSO ')\n",
        "print ('2 - GESTANTE')\n",
        "print ('3 - DEFICIENTE')\n",
        "print ('4 - FILA COMUM')\n",
        "\n",
        "menu = int(input('ESCOLHA UMA OPÇÃO :'))\n",
        "\n",
        "if (menu == 1) or (menu ==2) or (menu ==3):\n",
        "  print ('Você tem direito a fila prioritária !')\n",
        "elif menu == 4:\n",
        "  print ('Aguarde na fila comum !')\n",
        "else :\n",
        "  print ('Opção Inválida !')\n"
      ],
      "metadata": {
        "id": "A63cz9dNYE8-"
      },
      "execution_count": null,
      "outputs": []
    },
    {
      "cell_type": "code",
      "source": [
        "#Identificando se um número esta entre um range pré-definido\n",
        "c = int(input('Digite um número :'))\n",
        "if c in range (1, 100):\n",
        "  print ('está entre 1 e 99.')\n",
        "else :\n",
        "  print ('não esta entre 1 e 99')"
      ],
      "metadata": {
        "colab": {
          "base_uri": "https://localhost:8080/"
        },
        "id": "3KIPozEtaG6b",
        "outputId": "50c8bafd-7dc2-4d99-defb-e37b75d0a767"
      },
      "execution_count": null,
      "outputs": [
        {
          "output_type": "stream",
          "name": "stdout",
          "text": [
            "Digite um número :10\n",
            "está entre 1 e 99.\n"
          ]
        }
      ]
    }
  ]
}